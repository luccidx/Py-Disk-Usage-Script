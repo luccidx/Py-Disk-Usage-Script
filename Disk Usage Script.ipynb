{
 "cells": [
  {
   "cell_type": "code",
   "id": "initial_id",
   "metadata": {
    "collapsed": true,
    "ExecuteTime": {
     "end_time": "2024-10-04T13:03:52.513865Z",
     "start_time": "2024-10-04T13:03:52.509126Z"
    }
   },
   "source": "# Disk Usage Analyzer",
   "outputs": [],
   "execution_count": 1
  },
  {
   "metadata": {
    "ExecuteTime": {
     "end_time": "2024-10-04T13:03:53.377321Z",
     "start_time": "2024-10-04T13:03:53.373065Z"
    }
   },
   "cell_type": "code",
   "source": "import os",
   "id": "c302658ab4c90d53",
   "outputs": [],
   "execution_count": 2
  },
  {
   "metadata": {
    "ExecuteTime": {
     "end_time": "2024-10-04T13:03:54.219852Z",
     "start_time": "2024-10-04T13:03:54.215180Z"
    }
   },
   "cell_type": "code",
   "source": [
    "def get_size(path):\n",
    "    total_size = 0\n",
    "    for dirpath, dirnames, filenames in os.walk(path):\n",
    "        for file in filenames:\n",
    "            file_path = os.path.join(dirpath, file)\n",
    "            total_size += os.path.getsize(file_path)\n",
    "    return total_size"
   ],
   "id": "f6ec190ee9d32674",
   "outputs": [],
   "execution_count": 3
  },
  {
   "metadata": {
    "ExecuteTime": {
     "end_time": "2024-10-04T13:03:55.341486Z",
     "start_time": "2024-10-04T13:03:55.334074Z"
    }
   },
   "cell_type": "code",
   "source": [
    "directory = \"C:/Users/Santosh/Downloads/New folder (2)\"\n",
    "size_in_mb = get_size(directory) / (1024 * 1024)\n",
    "print(f\"Total Size of '{directory}': {size_in_mb:.2f} MB\")"
   ],
   "id": "fea89b88b39ccb47",
   "outputs": [
    {
     "name": "stdout",
     "output_type": "stream",
     "text": [
      "Total Size of 'C:/Users/Santosh/Downloads/New folder (2)': 0.14 MB\n"
     ]
    }
   ],
   "execution_count": 4
  },
  {
   "metadata": {},
   "cell_type": "code",
   "outputs": [],
   "execution_count": null,
   "source": "",
   "id": "7768f984c0c391ff"
  }
 ],
 "metadata": {
  "kernelspec": {
   "display_name": "Python 3",
   "language": "python",
   "name": "python3"
  },
  "language_info": {
   "codemirror_mode": {
    "name": "ipython",
    "version": 2
   },
   "file_extension": ".py",
   "mimetype": "text/x-python",
   "name": "python",
   "nbconvert_exporter": "python",
   "pygments_lexer": "ipython2",
   "version": "2.7.6"
  }
 },
 "nbformat": 4,
 "nbformat_minor": 5
}
